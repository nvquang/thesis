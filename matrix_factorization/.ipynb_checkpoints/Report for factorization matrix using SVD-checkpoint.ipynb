{
 "cells": [
  {
   "cell_type": "code",
   "execution_count": 1,
   "metadata": {},
   "outputs": [
    {
     "name": "stderr",
     "output_type": "stream",
     "text": [
      "/Users/appable/anaconda3/lib/python3.6/importlib/_bootstrap.py:219: RuntimeWarning: numpy.dtype size changed, may indicate binary incompatibility. Expected 96, got 88\n",
      "  return f(*args, **kwds)\n",
      "/Users/appable/anaconda3/lib/python3.6/site-packages/h5py/__init__.py:34: FutureWarning: Conversion of the second argument of issubdtype from `float` to `np.floating` is deprecated. In future, it will be treated as `np.float64 == np.dtype(float).type`.\n",
      "  from ._conv import register_converters as _register_converters\n",
      "Using TensorFlow backend.\n",
      "/Users/appable/anaconda3/lib/python3.6/importlib/_bootstrap.py:219: RuntimeWarning: numpy.dtype size changed, may indicate binary incompatibility. Expected 96, got 88\n",
      "  return f(*args, **kwds)\n",
      "/Users/appable/anaconda3/lib/python3.6/importlib/_bootstrap.py:219: RuntimeWarning: numpy.dtype size changed, may indicate binary incompatibility. Expected 96, got 88\n",
      "  return f(*args, **kwds)\n"
     ]
    }
   ],
   "source": [
    "from keras.models import Sequential\n",
    "from keras.layers import Dense\n",
    "import numpy\n",
    "numpy.random.seed(7)"
   ]
  },
  {
   "cell_type": "code",
   "execution_count": 2,
   "metadata": {
    "collapsed": true
   },
   "outputs": [],
   "source": [
    "# load pima indians dataset\n",
    "dataset = numpy.loadtxt(\"pima-indians-diabetes.data.csv\", delimiter=\",\")\n",
    "# split into input (X) and output (Y) variables\n",
    "X = dataset[:,0:8]\n",
    "Y = dataset[:,8]"
   ]
  },
  {
   "cell_type": "markdown",
   "metadata": {},
   "source": [
    "Load data and slipt them to train/test part"
   ]
  },
  {
   "cell_type": "code",
   "execution_count": 3,
   "metadata": {},
   "outputs": [
    {
     "name": "stderr",
     "output_type": "stream",
     "text": [
      "/Users/appable/anaconda3/lib/python3.6/importlib/_bootstrap.py:219: RuntimeWarning: numpy.dtype size changed, may indicate binary incompatibility. Expected 96, got 88\n",
      "  return f(*args, **kwds)\n",
      "/Users/appable/anaconda3/lib/python3.6/importlib/_bootstrap.py:219: RuntimeWarning: numpy.dtype size changed, may indicate binary incompatibility. Expected 96, got 88\n",
      "  return f(*args, **kwds)\n"
     ]
    }
   ],
   "source": [
    "from sklearn.model_selection import train_test_split\n",
    "X_train, X_test, y_train, y_test = train_test_split(X, Y, test_size=0.33, random_state=42)"
   ]
  },
  {
   "cell_type": "markdown",
   "metadata": {},
   "source": [
    "### Create very simple model with only 8 input and 4 output "
   ]
  },
  {
   "cell_type": "code",
   "execution_count": 4,
   "metadata": {
    "collapsed": true
   },
   "outputs": [],
   "source": [
    "# create model\n",
    "model = Sequential()\n",
    "model.add(Dense(4, input_dim=8, activation='relu'))\n",
    "model.add(Dense(1, activation='sigmoid'))"
   ]
  },
  {
   "cell_type": "code",
   "execution_count": 5,
   "metadata": {
    "collapsed": true
   },
   "outputs": [],
   "source": [
    "model.compile(loss='binary_crossentropy', optimizer='adam', metrics=['accuracy'])"
   ]
  },
  {
   "cell_type": "code",
   "execution_count": 6,
   "metadata": {},
   "outputs": [
    {
     "name": "stdout",
     "output_type": "stream",
     "text": [
      "Epoch 1/50\n",
      "514/514 [==============================] - 0s 731us/step - loss: 1.3969 - acc: 0.5817\n",
      "Epoch 2/50\n",
      "514/514 [==============================] - 0s 214us/step - loss: 1.0912 - acc: 0.6089\n",
      "Epoch 3/50\n",
      "514/514 [==============================] - 0s 207us/step - loss: 0.9252 - acc: 0.6420\n",
      "Epoch 4/50\n",
      "514/514 [==============================] - 0s 194us/step - loss: 0.8290 - acc: 0.6537\n",
      "Epoch 5/50\n",
      "514/514 [==============================] - 0s 192us/step - loss: 0.7873 - acc: 0.6537\n",
      "Epoch 6/50\n",
      "514/514 [==============================] - 0s 194us/step - loss: 0.7211 - acc: 0.6615\n",
      "Epoch 7/50\n",
      "514/514 [==============================] - 0s 363us/step - loss: 0.7028 - acc: 0.6634\n",
      "Epoch 8/50\n",
      "514/514 [==============================] - 0s 209us/step - loss: 0.6866 - acc: 0.6537\n",
      "Epoch 9/50\n",
      "514/514 [==============================] - 0s 204us/step - loss: 0.6729 - acc: 0.6634\n",
      "Epoch 10/50\n",
      "514/514 [==============================] - 0s 196us/step - loss: 0.6612 - acc: 0.6673\n",
      "Epoch 11/50\n",
      "514/514 [==============================] - 0s 226us/step - loss: 0.6563 - acc: 0.6634\n",
      "Epoch 12/50\n",
      "514/514 [==============================] - 0s 228us/step - loss: 0.6521 - acc: 0.6634\n",
      "Epoch 13/50\n",
      "514/514 [==============================] - 0s 237us/step - loss: 0.6454 - acc: 0.6673\n",
      "Epoch 14/50\n",
      "514/514 [==============================] - 0s 224us/step - loss: 0.6425 - acc: 0.6654\n",
      "Epoch 15/50\n",
      "514/514 [==============================] - 0s 209us/step - loss: 0.6404 - acc: 0.6634\n",
      "Epoch 16/50\n",
      "514/514 [==============================] - 0s 222us/step - loss: 0.6384 - acc: 0.6673\n",
      "Epoch 17/50\n",
      "514/514 [==============================] - 0s 226us/step - loss: 0.6376 - acc: 0.6634\n",
      "Epoch 18/50\n",
      "514/514 [==============================] - 0s 202us/step - loss: 0.6363 - acc: 0.6673\n",
      "Epoch 19/50\n",
      "514/514 [==============================] - 0s 221us/step - loss: 0.6351 - acc: 0.6634\n",
      "Epoch 20/50\n",
      "514/514 [==============================] - 0s 226us/step - loss: 0.6336 - acc: 0.6654\n",
      "Epoch 21/50\n",
      "514/514 [==============================] - 0s 219us/step - loss: 0.6329 - acc: 0.6654\n",
      "Epoch 22/50\n",
      "514/514 [==============================] - 0s 202us/step - loss: 0.6326 - acc: 0.6654\n",
      "Epoch 23/50\n",
      "514/514 [==============================] - 0s 258us/step - loss: 0.6327 - acc: 0.6654\n",
      "Epoch 24/50\n",
      "514/514 [==============================] - 0s 273us/step - loss: 0.6310 - acc: 0.6673\n",
      "Epoch 25/50\n",
      "514/514 [==============================] - 0s 214us/step - loss: 0.6299 - acc: 0.6693\n",
      "Epoch 26/50\n",
      "514/514 [==============================] - 0s 210us/step - loss: 0.6306 - acc: 0.6634\n",
      "Epoch 27/50\n",
      "514/514 [==============================] - 0s 198us/step - loss: 0.6297 - acc: 0.6654\n",
      "Epoch 28/50\n",
      "514/514 [==============================] - 0s 193us/step - loss: 0.6292 - acc: 0.6654\n",
      "Epoch 29/50\n",
      "514/514 [==============================] - 0s 202us/step - loss: 0.6295 - acc: 0.6634\n",
      "Epoch 30/50\n",
      "514/514 [==============================] - 0s 208us/step - loss: 0.6295 - acc: 0.6634\n",
      "Epoch 31/50\n",
      "514/514 [==============================] - 0s 295us/step - loss: 0.6278 - acc: 0.6693\n",
      "Epoch 32/50\n",
      "514/514 [==============================] - 0s 216us/step - loss: 0.6301 - acc: 0.6654\n",
      "Epoch 33/50\n",
      "514/514 [==============================] - 0s 195us/step - loss: 0.6305 - acc: 0.6654\n",
      "Epoch 34/50\n",
      "514/514 [==============================] - 0s 168us/step - loss: 0.6221 - acc: 0.6770\n",
      "Epoch 35/50\n",
      "514/514 [==============================] - 0s 273us/step - loss: 0.6163 - acc: 0.6887\n",
      "Epoch 36/50\n",
      "514/514 [==============================] - 0s 196us/step - loss: 0.6139 - acc: 0.6926\n",
      "Epoch 37/50\n",
      "514/514 [==============================] - 0s 204us/step - loss: 0.6098 - acc: 0.6926\n",
      "Epoch 38/50\n",
      "514/514 [==============================] - 0s 318us/step - loss: 0.6101 - acc: 0.6926\n",
      "Epoch 39/50\n",
      "514/514 [==============================] - 0s 213us/step - loss: 0.6073 - acc: 0.6887\n",
      "Epoch 40/50\n",
      "514/514 [==============================] - 0s 193us/step - loss: 0.6067 - acc: 0.6907\n",
      "Epoch 41/50\n",
      "514/514 [==============================] - 0s 323us/step - loss: 0.6102 - acc: 0.6907\n",
      "Epoch 42/50\n",
      "514/514 [==============================] - 0s 231us/step - loss: 0.6052 - acc: 0.6946\n",
      "Epoch 43/50\n",
      "514/514 [==============================] - 0s 191us/step - loss: 0.6047 - acc: 0.6907\n",
      "Epoch 44/50\n",
      "514/514 [==============================] - 0s 356us/step - loss: 0.6064 - acc: 0.6848\n",
      "Epoch 45/50\n",
      "514/514 [==============================] - 0s 172us/step - loss: 0.6042 - acc: 0.6887\n",
      "Epoch 46/50\n",
      "514/514 [==============================] - 0s 224us/step - loss: 0.6041 - acc: 0.6946\n",
      "Epoch 47/50\n",
      "514/514 [==============================] - 0s 234us/step - loss: 0.6039 - acc: 0.6907\n",
      "Epoch 48/50\n",
      "514/514 [==============================] - 0s 193us/step - loss: 0.6060 - acc: 0.6926\n",
      "Epoch 49/50\n",
      "514/514 [==============================] - 0s 210us/step - loss: 0.6039 - acc: 0.6946\n",
      "Epoch 50/50\n",
      "514/514 [==============================] - 0s 169us/step - loss: 0.6046 - acc: 0.6848\n"
     ]
    },
    {
     "data": {
      "text/plain": [
       "<keras.callbacks.History at 0x11ca965f8>"
      ]
     },
     "execution_count": 6,
     "metadata": {},
     "output_type": "execute_result"
    }
   ],
   "source": [
    "# Fit the model\n",
    "model.fit(X_train, y_train, epochs=50, batch_size=10)"
   ]
  },
  {
   "cell_type": "code",
   "execution_count": 7,
   "metadata": {},
   "outputs": [
    {
     "name": "stdout",
     "output_type": "stream",
     "text": [
      "_________________________________________________________________\n",
      "Layer (type)                 Output Shape              Param #   \n",
      "=================================================================\n",
      "dense_1 (Dense)              (None, 4)                 36        \n",
      "_________________________________________________________________\n",
      "dense_2 (Dense)              (None, 1)                 5         \n",
      "=================================================================\n",
      "Total params: 41\n",
      "Trainable params: 41\n",
      "Non-trainable params: 0\n",
      "_________________________________________________________________\n",
      "None\n"
     ]
    }
   ],
   "source": [
    "print(model.summary())"
   ]
  },
  {
   "cell_type": "code",
   "execution_count": 8,
   "metadata": {},
   "outputs": [
    {
     "name": "stdout",
     "output_type": "stream",
     "text": [
      "254/254 [==============================] - 0s 141us/step\n",
      "\n",
      "acc: 69.29%\n"
     ]
    }
   ],
   "source": [
    "scores = model.evaluate(X_test, y_test)\n",
    "print(\"\\n%s: %.2f%%\" % (model.metrics_names[1], scores[1]*100))"
   ]
  },
  {
   "cell_type": "code",
   "execution_count": 9,
   "metadata": {},
   "outputs": [
    {
     "data": {
      "text/plain": [
       "array([[0]], dtype=int32)"
      ]
     },
     "execution_count": 9,
     "metadata": {},
     "output_type": "execute_result"
    }
   ],
   "source": [
    "model.predict_classes(X_test[0].reshape(1,8))"
   ]
  },
  {
   "cell_type": "code",
   "execution_count": 10,
   "metadata": {},
   "outputs": [
    {
     "name": "stdout",
     "output_type": "stream",
     "text": [
      "(8, 4)\n",
      "[[ 0.28978422  0.2662049  -0.10510625  0.04239155]\n",
      " [ 0.1397239  -0.12853253 -0.70365155  0.03559473]\n",
      " [-0.5437102  -0.54288614 -0.12444912 -0.5319742 ]\n",
      " [ 0.3636566  -0.4966212  -0.04103655  0.53390545]\n",
      " [-0.00575437 -0.0406636  -0.49122    -0.01575096]\n",
      " [ 0.02790883 -0.11602473  0.12308686 -0.25066358]\n",
      " [-0.00952729 -0.06974089  0.0077861   0.23737997]\n",
      " [ 0.13272917  0.22553486  0.251453    0.37401378]]\n",
      "(4,)\n",
      "[-0.2021076   0.         -0.18065733  0.16435201]\n",
      "(4, 1)\n",
      "[[ 0.27678072]\n",
      " [-0.033831  ]\n",
      " [ 0.77322793]\n",
      " [-0.69418323]]\n",
      "(1,)\n",
      "[-0.72601193]\n"
     ]
    }
   ],
   "source": [
    "for w in model.get_weights():\n",
    "    print(w.shape)\n",
    "    print(w)"
   ]
  },
  {
   "cell_type": "markdown",
   "metadata": {},
   "source": [
    "## We factorization matrix W_1 to 3 compement matrix: U, s, VT"
   ]
  },
  {
   "cell_type": "code",
   "execution_count": 11,
   "metadata": {
    "collapsed": true
   },
   "outputs": [],
   "source": [
    "from numpy import array\n",
    "from numpy import diag\n",
    "from numpy import dot\n",
    "from numpy import zeros\n",
    "import numpy as np\n",
    "\n",
    "w_1 = model.get_weights()[0]\n",
    "U, s, VT = np.linalg.svd(w_1, full_matrices=True)\n",
    "# create m x n Sigma matrix\n",
    "Sigma = zeros((w_1.shape[0], w_1.shape[1]))\n",
    "# populate Sigma with n x n diagonal matrix\n",
    "Sigma[:w_1.shape[1], :w_1.shape[1]] = diag(s)\n",
    "# reconstruct matrix\n",
    "B = U.dot(Sigma.dot(VT))"
   ]
  },
  {
   "cell_type": "code",
   "execution_count": 12,
   "metadata": {},
   "outputs": [
    {
     "data": {
      "text/plain": [
       "array([[ 0.28978422,  0.26620489, -0.10510625,  0.04239155],\n",
       "       [ 0.1397239 , -0.12853252, -0.70365155,  0.03559474],\n",
       "       [-0.5437102 , -0.54288613, -0.12444912, -0.53197419],\n",
       "       [ 0.36365662, -0.49662118, -0.04103652,  0.53390545],\n",
       "       [-0.00575437, -0.0406636 , -0.49121999, -0.01575095],\n",
       "       [ 0.02790881, -0.11602473,  0.12308686, -0.25066357],\n",
       "       [-0.00952728, -0.0697409 ,  0.00778611,  0.23737997],\n",
       "       [ 0.13272919,  0.22553486,  0.25145302,  0.37401377]])"
      ]
     },
     "execution_count": 12,
     "metadata": {},
     "output_type": "execute_result"
    }
   ],
   "source": [
    "B"
   ]
  },
  {
   "cell_type": "code",
   "execution_count": 13,
   "metadata": {},
   "outputs": [
    {
     "name": "stdout",
     "output_type": "stream",
     "text": [
      "U:  (8, 8)\n",
      "Sigma:  (8, 4)\n",
      "VT:  (4, 4)\n"
     ]
    }
   ],
   "source": [
    "print(\"U: \", U.shape)\n",
    "print(\"Sigma: \", Sigma.shape)\n",
    "print(\"VT: \", VT.shape)"
   ]
  },
  {
   "cell_type": "code",
   "execution_count": 14,
   "metadata": {
    "collapsed": true
   },
   "outputs": [],
   "source": [
    "model2 = Sequential()\n",
    "model2.add(Dense(8, input_dim=8, activation='relu'))\n",
    "model2.add(Dense(4, input_dim=8, activation='relu'))\n",
    "model2.add(Dense(4, input_dim=4, activation='relu'))\n",
    "model2.add(Dense(1, activation='sigmoid'))"
   ]
  },
  {
   "cell_type": "code",
   "execution_count": 15,
   "metadata": {},
   "outputs": [
    {
     "name": "stdout",
     "output_type": "stream",
     "text": [
      "_________________________________________________________________\n",
      "Layer (type)                 Output Shape              Param #   \n",
      "=================================================================\n",
      "dense_3 (Dense)              (None, 8)                 72        \n",
      "_________________________________________________________________\n",
      "dense_4 (Dense)              (None, 4)                 36        \n",
      "_________________________________________________________________\n",
      "dense_5 (Dense)              (None, 4)                 20        \n",
      "_________________________________________________________________\n",
      "dense_6 (Dense)              (None, 1)                 5         \n",
      "=================================================================\n",
      "Total params: 133\n",
      "Trainable params: 133\n",
      "Non-trainable params: 0\n",
      "_________________________________________________________________\n"
     ]
    }
   ],
   "source": [
    "model2.summary()"
   ]
  },
  {
   "cell_type": "code",
   "execution_count": 16,
   "metadata": {},
   "outputs": [
    {
     "name": "stdout",
     "output_type": "stream",
     "text": [
      "(8, 4)\n",
      "(4,)\n",
      "(4, 1)\n",
      "(1,)\n"
     ]
    }
   ],
   "source": [
    "for wwww in model.get_weights():\n",
    "    print (wwww.shape)"
   ]
  },
  {
   "cell_type": "code",
   "execution_count": 17,
   "metadata": {},
   "outputs": [
    {
     "name": "stdout",
     "output_type": "stream",
     "text": [
      "(8, 8)\n",
      "(8,)\n",
      "(8, 4)\n",
      "(4,)\n",
      "(4, 4)\n",
      "(4,)\n",
      "(4, 1)\n",
      "(1,)\n"
     ]
    }
   ],
   "source": [
    "for wwww in model2.get_weights():\n",
    "    print (wwww.shape)"
   ]
  },
  {
   "cell_type": "code",
   "execution_count": 18,
   "metadata": {},
   "outputs": [
    {
     "name": "stdout",
     "output_type": "stream",
     "text": [
      "(8, 8)\n",
      "(8,)\n",
      "(8, 4)\n",
      "(4,)\n",
      "(4, 4)\n",
      "(4,)\n",
      "(4, 1)\n",
      "(1,)\n"
     ]
    }
   ],
   "source": [
    "weights = [U,\n",
    "           model2.get_weights()[1], \n",
    "           Sigma, \n",
    "           model2.get_weights()[3], \n",
    "           VT, \n",
    "           model2.get_weights()[5],\n",
    "           model.get_weights()[2],\n",
    "           model.get_weights()[3]]\n",
    "for w in weights:\n",
    "    print(w.shape)"
   ]
  },
  {
   "cell_type": "code",
   "execution_count": 19,
   "metadata": {
    "collapsed": true
   },
   "outputs": [],
   "source": [
    "model2.set_weights(weights)\n",
    "model2.compile(loss='binary_crossentropy', optimizer='adam', metrics=['accuracy'])"
   ]
  },
  {
   "cell_type": "markdown",
   "metadata": {},
   "source": [
    "## Compare 2 models"
   ]
  },
  {
   "cell_type": "markdown",
   "metadata": {},
   "source": [
    "### Model 1:"
   ]
  },
  {
   "cell_type": "code",
   "execution_count": 20,
   "metadata": {},
   "outputs": [
    {
     "name": "stdout",
     "output_type": "stream",
     "text": [
      "254/254 [==============================] - 0s 212us/step\n",
      "\n",
      "acc: 69.29%\n"
     ]
    }
   ],
   "source": [
    "scores = model.evaluate(X_test, y_test)\n",
    "print(\"\\n%s: %.2f%%\" % (model.metrics_names[1], scores[1]*100))"
   ]
  },
  {
   "cell_type": "code",
   "execution_count": 21,
   "metadata": {},
   "outputs": [
    {
     "data": {
      "text/plain": [
       "array([[161,   7],\n",
       "       [ 71,  15]])"
      ]
     },
     "execution_count": 21,
     "metadata": {},
     "output_type": "execute_result"
    }
   ],
   "source": [
    "from sklearn.metrics import confusion_matrix\n",
    "from sklearn.metrics import precision_recall_fscore_support\n",
    "confusion_matrix(y_test, model.predict_classes(X_test))"
   ]
  },
  {
   "cell_type": "code",
   "execution_count": 22,
   "metadata": {},
   "outputs": [
    {
     "data": {
      "text/plain": [
       "(0.6878918495297806, 0.5663759689922481, 0.5413888888888889, None)"
      ]
     },
     "execution_count": 22,
     "metadata": {},
     "output_type": "execute_result"
    }
   ],
   "source": [
    "precision_recall_fscore_support(y_test, model.predict_classes(X_test), average='macro')"
   ]
  },
  {
   "cell_type": "markdown",
   "metadata": {},
   "source": [
    "## Model 2:"
   ]
  },
  {
   "cell_type": "code",
   "execution_count": 23,
   "metadata": {},
   "outputs": [
    {
     "name": "stdout",
     "output_type": "stream",
     "text": [
      "254/254 [==============================] - 0s 251us/step\n",
      "\n",
      "acc: 66.54%\n"
     ]
    }
   ],
   "source": [
    "scores2 = model2.evaluate(X_test, y_test)\n",
    "print(\"\\n%s: %.2f%%\" % (model2.metrics_names[1], scores2[1]*100))"
   ]
  },
  {
   "cell_type": "code",
   "execution_count": 24,
   "metadata": {},
   "outputs": [
    {
     "data": {
      "text/plain": [
       "array([[167,   1],\n",
       "       [ 84,   2]])"
      ]
     },
     "execution_count": 24,
     "metadata": {},
     "output_type": "execute_result"
    }
   ],
   "source": [
    "from sklearn.metrics import confusion_matrix\n",
    "from sklearn.metrics import precision_recall_fscore_support\n",
    "confusion_matrix(y_test, model2.predict_classes(X_test))"
   ]
  },
  {
   "cell_type": "code",
   "execution_count": 25,
   "metadata": {},
   "outputs": [
    {
     "data": {
      "text/plain": [
       "(0.6660026560424966, 0.5086517165005537, 0.4210399292054383, None)"
      ]
     },
     "execution_count": 25,
     "metadata": {},
     "output_type": "execute_result"
    }
   ],
   "source": [
    "precision_recall_fscore_support(y_test, model2.predict_classes(X_test), average='macro')"
   ]
  }
 ],
 "metadata": {
  "kernelspec": {
   "display_name": "Python 3",
   "language": "python",
   "name": "python3"
  },
  "language_info": {
   "codemirror_mode": {
    "name": "ipython",
    "version": 3
   },
   "file_extension": ".py",
   "mimetype": "text/x-python",
   "name": "python",
   "nbconvert_exporter": "python",
   "pygments_lexer": "ipython3",
   "version": "3.6.3"
  }
 },
 "nbformat": 4,
 "nbformat_minor": 2
}
