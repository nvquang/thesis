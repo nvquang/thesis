{
 "cells": [
  {
   "cell_type": "code",
   "execution_count": 3,
   "metadata": {},
   "outputs": [],
   "source": [
    "from gensim.test.utils import common_texts, get_tmpfile\n",
    "from gensim.models import Word2Vec"
   ]
  },
  {
   "cell_type": "markdown",
   "metadata": {},
   "source": [
    "# LOAD WORD2VEC MODEL TRAIN FROM PREVIOUS TASK"
   ]
  },
  {
   "cell_type": "code",
   "execution_count": 4,
   "metadata": {},
   "outputs": [],
   "source": [
    "model = Word2Vec.load(\"./ductrung239-projects-quang-song-to-vec-15-home/song2vec.model\")"
   ]
  },
  {
   "cell_type": "markdown",
   "metadata": {},
   "source": [
    "## Some pre-processing steps for normalization text"
   ]
  },
  {
   "cell_type": "code",
   "execution_count": 13,
   "metadata": {},
   "outputs": [
    {
     "name": "stdout",
     "output_type": "stream",
     "text": [
      "nan:  0\n"
     ]
    }
   ],
   "source": [
    "import pandas as pd\n",
    "\n",
    "import random\n",
    "\n",
    "import re\n",
    "import string\n",
    "import os\n",
    "\n",
    "regex = re.compile('[%s]' % re.escape(string.punctuation))\n",
    "def cleaning_text(doc):\n",
    "    \n",
    "    # convert to lower case\n",
    "    doc = doc.lower()\n",
    "\n",
    "    # remove spacespace\n",
    "    doc = re.sub(' +', ' ', doc)\n",
    "    doc = doc.strip()\n",
    "    doc = doc.replace(\" \", \"_\")\n",
    "    return doc\n",
    "\n",
    "\n",
    "def read_data():\n",
    "    df = pd.read_csv(\n",
    "        \"./songs_dataset_105k.csv\")\n",
    "    df.drop(columns=['ID', 'Md5 ', 'album_link', 'song_link', \"Site\"], inplace=True)\n",
    "\n",
    "    values = {'Singer': 'Singer unknown', \n",
    "            'Song': \"Song unknown\", \n",
    "            'Author': \"Author unknown\", \n",
    "            'Album': \"Album unknown\", \n",
    "            'Genre': \"Genre unknown\"}\n",
    "\n",
    "    df.fillna(value=values, inplace=True)\n",
    "\n",
    "\n",
    "    df['Song'] = df['Song'].astype('str')\n",
    "    df['Singer'] = df['Singer'].astype('str')\n",
    "    df['Author'] = df['Author'].astype('str')\n",
    "    df['Album'] = df['Album'].astype('str')\n",
    "    df['Genre'] = df['Genre'].astype('str')\n",
    "\n",
    "    df['Song'] = df['Song'].apply(cleaning_text)\n",
    "    df['Singer'] = df['Singer'].apply(cleaning_text)\n",
    "    df['Author'] = df['Author'].apply(cleaning_text)\n",
    "    df['Album'] = df['Album'].apply(cleaning_text)\n",
    "    df['Genre'] = df['Genre'].apply(cleaning_text)\n",
    "\n",
    "    return df \n",
    "\n",
    "# Load pre-train dataset\n",
    "df = read_data()"
   ]
  },
  {
   "cell_type": "code",
   "execution_count": 113,
   "metadata": {},
   "outputs": [
    {
     "name": "stdout",
     "output_type": "stream",
     "text": [
      "Missing item:  3\n",
      "dict_keys(['Song', 'Singer', 'Author', 'Album', 'Genre'])\n"
     ]
    }
   ],
   "source": [
    "dict_category = dict()\n",
    "missing_item = 0\n",
    "for col in df.columns:\n",
    "    value_list = []\n",
    "    value_vectors = []\n",
    "    for value in df[col].unique():\n",
    "        try:\n",
    "            value_vectors.append(model.wv.get_vector(value))\n",
    "            value_list.append(value)\n",
    "        except:\n",
    "            missing_item += 1\n",
    "    dict_category[col] = {\n",
    "        \"value_list\": value_list,\n",
    "        \"value_vectors\": value_vectors\n",
    "    }\n",
    "print(\"Missing item: \", missing_item)\n",
    "print(dict_category.keys())"
   ]
  },
  {
   "cell_type": "markdown",
   "metadata": {},
   "source": [
    "## Build tress from each categories"
   ]
  },
  {
   "cell_type": "code",
   "execution_count": 140,
   "metadata": {},
   "outputs": [
    {
     "name": "stdout",
     "output_type": "stream",
     "text": [
      "Key:  Song\n",
      "Key:  Singer\n",
      "Key:  Author\n",
      "Key:  Album\n",
      "Key:  Genre\n"
     ]
    }
   ],
   "source": [
    "from sklearn.neighbors import KDTree\n",
    "dict_of_tree = dict()\n",
    "\n",
    "for key in dict_category.keys():\n",
    "    print(\"Key: \", key)\n",
    "    tree = KDTree(np.array(dict_category[key]['value_vectors']), leaf_size=30, metric='euclidean')\n",
    "    dict_of_tree[key] = tree"
   ]
  },
  {
   "cell_type": "markdown",
   "metadata": {},
   "source": [
    "## Some test cases"
   ]
  },
  {
   "cell_type": "markdown",
   "metadata": {},
   "source": [
    "### Find top 10 songs  similar with \"hạ_trắng\""
   ]
  },
  {
   "cell_type": "code",
   "execution_count": 141,
   "metadata": {},
   "outputs": [
    {
     "name": "stdout",
     "output_type": "stream",
     "text": [
      "10 songs most similar with 'hạ_trắng' \n",
      "hạ_trắng\n",
      "tuổi_đá_buồn\n",
      "diễm_xưa\n",
      "cát_bụi\n",
      "nắng_thủy_tinh\n",
      "một_cõi_đi_về\n",
      "đêm_thấy_ta_là_thác_đổ\n",
      "ru_em_từng_ngón_xuân_nồng\n",
      "như_cánh_vạc_bay\n",
      "hạ_trắng_(beat)\n"
     ]
    }
   ],
   "source": [
    "dist, ind = dict_of_tree['Song'].query(model.wv.get_vector(\"hạ_trắng\").reshape(1, -1), k=10)\n",
    "print(\"10 songs most similar with 'hạ_trắng' \")\n",
    "for i in ind[0]:\n",
    "    print(dict_category['Song']['value_list'][i])"
   ]
  },
  {
   "cell_type": "markdown",
   "metadata": {},
   "source": [
    "### Find top 10 singers  similar with \"trịnh_công_sơn\""
   ]
  },
  {
   "cell_type": "code",
   "execution_count": 142,
   "metadata": {},
   "outputs": [
    {
     "name": "stdout",
     "output_type": "stream",
     "text": [
      "Top 10 Singer most similar with 'trịnh_công_sơn' \n",
      "trịnh_công_sơn\n",
      "hoàng_lân\n",
      "trâm_anh\n",
      "nguyễn_hữu_thái_hòa\n",
      "công_luân\n",
      "thế_duật\n",
      "phương_ngọc\n",
      "chính_duật\n",
      "ngô_quang_vinh\n",
      "thúy_hà_tú\n",
      "kim_ánh\n",
      "thủy_tiên_(trịnh)\n",
      "bích_ngà\n",
      "giang_trang\n",
      "nguyệt_ca\n"
     ]
    }
   ],
   "source": [
    "dist, ind = dict_of_tree['Singer'].query(model.wv.get_vector(\"trịnh_công_sơn\").reshape(1, -1), k=15)\n",
    "print(\"Top 10 Singer most similar with 'trịnh_công_sơn' \")\n",
    "for i in ind[0]:\n",
    "    print(dict_category['Singer']['value_list'][i])"
   ]
  },
  {
   "cell_type": "markdown",
   "metadata": {},
   "source": [
    "## Check data in dataset"
   ]
  },
  {
   "cell_type": "code",
   "execution_count": 139,
   "metadata": {},
   "outputs": [
    {
     "data": {
      "text/html": [
       "<div>\n",
       "<style scoped>\n",
       "    .dataframe tbody tr th:only-of-type {\n",
       "        vertical-align: middle;\n",
       "    }\n",
       "\n",
       "    .dataframe tbody tr th {\n",
       "        vertical-align: top;\n",
       "    }\n",
       "\n",
       "    .dataframe thead th {\n",
       "        text-align: right;\n",
       "    }\n",
       "</style>\n",
       "<table border=\"1\" class=\"dataframe\">\n",
       "  <thead>\n",
       "    <tr style=\"text-align: right;\">\n",
       "      <th></th>\n",
       "      <th>Song</th>\n",
       "      <th>Singer</th>\n",
       "      <th>Author</th>\n",
       "      <th>Album</th>\n",
       "      <th>Genre</th>\n",
       "    </tr>\n",
       "  </thead>\n",
       "  <tbody>\n",
       "    <tr>\n",
       "      <th>8</th>\n",
       "      <td>bốn_mùa_thay_lá</td>\n",
       "      <td>nguyệt_ca</td>\n",
       "      <td>trịnh_công_sơn</td>\n",
       "      <td>bốn_mùa_thay_lá_-</td>\n",
       "      <td>nhạc_trịnh</td>\n",
       "    </tr>\n",
       "    <tr>\n",
       "      <th>22579</th>\n",
       "      <td>cũng_sẽ_chìm_trôi</td>\n",
       "      <td>nguyệt_ca</td>\n",
       "      <td>trịnh_công_sơn</td>\n",
       "      <td>môi_hồng_đào_-</td>\n",
       "      <td>nhạc_trịnh</td>\n",
       "    </tr>\n",
       "    <tr>\n",
       "      <th>22593</th>\n",
       "      <td>hãy_yêu_nhau_đi</td>\n",
       "      <td>nguyệt_ca</td>\n",
       "      <td>trịnh_công_sơn</td>\n",
       "      <td>mẹ_-_cánh_chim_cô_đơn_-</td>\n",
       "      <td>nhạc_trịnh</td>\n",
       "    </tr>\n",
       "    <tr>\n",
       "      <th>94593</th>\n",
       "      <td>hãy_yêu_nhau_đi</td>\n",
       "      <td>nguyệt_ca</td>\n",
       "      <td>trịnh_công_sơn</td>\n",
       "      <td>những_bài_hát_hay_nhất_của_nguyệt_ca</td>\n",
       "      <td>nhạc_trịnh</td>\n",
       "    </tr>\n",
       "    <tr>\n",
       "      <th>94613</th>\n",
       "      <td>lời_mẹ_ru</td>\n",
       "      <td>nguyệt_ca</td>\n",
       "      <td>trịnh_công_sơn</td>\n",
       "      <td>những_bài_hát_hay_nhất_của_nguyệt_ca</td>\n",
       "      <td>nhạc_trịnh</td>\n",
       "    </tr>\n",
       "    <tr>\n",
       "      <th>94616</th>\n",
       "      <td>cũng_sẽ_chìm_trôi</td>\n",
       "      <td>nguyệt_ca</td>\n",
       "      <td>trịnh_công_sơn</td>\n",
       "      <td>những_bài_hát_hay_nhất_của_nguyệt_ca</td>\n",
       "      <td>nhạc_trịnh</td>\n",
       "    </tr>\n",
       "    <tr>\n",
       "      <th>94618</th>\n",
       "      <td>mưa_hồng</td>\n",
       "      <td>nguyệt_ca</td>\n",
       "      <td>trịnh_công_sơn</td>\n",
       "      <td>những_bài_hát_hay_nhất_của_nguyệt_ca</td>\n",
       "      <td>nhạc_trịnh</td>\n",
       "    </tr>\n",
       "    <tr>\n",
       "      <th>94620</th>\n",
       "      <td>níu_tay_nghìn_trùng</td>\n",
       "      <td>nguyệt_ca</td>\n",
       "      <td>trịnh_công_sơn</td>\n",
       "      <td>những_bài_hát_hay_nhất_của_nguyệt_ca</td>\n",
       "      <td>nhạc_trịnh</td>\n",
       "    </tr>\n",
       "    <tr>\n",
       "      <th>94622</th>\n",
       "      <td>đóa_hoa_vô_thường</td>\n",
       "      <td>nguyệt_ca</td>\n",
       "      <td>trịnh_công_sơn</td>\n",
       "      <td>những_bài_hát_hay_nhất_của_nguyệt_ca</td>\n",
       "      <td>nhạc_trịnh</td>\n",
       "    </tr>\n",
       "    <tr>\n",
       "      <th>94623</th>\n",
       "      <td>cát_bụi</td>\n",
       "      <td>nguyệt_ca</td>\n",
       "      <td>trịnh_công_sơn</td>\n",
       "      <td>những_bài_hát_hay_nhất_của_nguyệt_ca</td>\n",
       "      <td>nhạc_trịnh</td>\n",
       "    </tr>\n",
       "    <tr>\n",
       "      <th>94624</th>\n",
       "      <td>nắng_thủy_tinh</td>\n",
       "      <td>nguyệt_ca</td>\n",
       "      <td>trịnh_công_sơn</td>\n",
       "      <td>những_bài_hát_hay_nhất_của_nguyệt_ca</td>\n",
       "      <td>nhạc_trịnh</td>\n",
       "    </tr>\n",
       "    <tr>\n",
       "      <th>94627</th>\n",
       "      <td>diễm_xưa</td>\n",
       "      <td>nguyệt_ca</td>\n",
       "      <td>trịnh_công_sơn</td>\n",
       "      <td>những_bài_hát_hay_nhất_của_nguyệt_ca</td>\n",
       "      <td>nhạc_trịnh</td>\n",
       "    </tr>\n",
       "    <tr>\n",
       "      <th>100059</th>\n",
       "      <td>còn_tuổi_nào_cho_em</td>\n",
       "      <td>nguyệt_ca</td>\n",
       "      <td>trịnh_công_sơn</td>\n",
       "      <td>bốn_mùa_thay_lá_-</td>\n",
       "      <td>nhạc_trịnh</td>\n",
       "    </tr>\n",
       "    <tr>\n",
       "      <th>100062</th>\n",
       "      <td>tình_sầu</td>\n",
       "      <td>nguyệt_ca</td>\n",
       "      <td>trịnh_công_sơn</td>\n",
       "      <td>bốn_mùa_thay_lá_-</td>\n",
       "      <td>nhạc_trịnh</td>\n",
       "    </tr>\n",
       "    <tr>\n",
       "      <th>100064</th>\n",
       "      <td>tình_nhớ</td>\n",
       "      <td>nguyệt_ca</td>\n",
       "      <td>trịnh_công_sơn</td>\n",
       "      <td>bốn_mùa_thay_lá_-</td>\n",
       "      <td>nhạc_trịnh</td>\n",
       "    </tr>\n",
       "    <tr>\n",
       "      <th>100065</th>\n",
       "      <td>sóng_về_đâu</td>\n",
       "      <td>nguyệt_ca</td>\n",
       "      <td>trịnh_công_sơn</td>\n",
       "      <td>bốn_mùa_thay_lá_-</td>\n",
       "      <td>nhạc_trịnh</td>\n",
       "    </tr>\n",
       "    <tr>\n",
       "      <th>100066</th>\n",
       "      <td>môi_hồng_đào</td>\n",
       "      <td>nguyệt_ca</td>\n",
       "      <td>trịnh_công_sơn</td>\n",
       "      <td>bốn_mùa_thay_lá_-</td>\n",
       "      <td>nhạc_trịnh</td>\n",
       "    </tr>\n",
       "    <tr>\n",
       "      <th>100067</th>\n",
       "      <td>chiếc_lá_thu_phai</td>\n",
       "      <td>nguyệt_ca</td>\n",
       "      <td>trịnh_công_sơn</td>\n",
       "      <td>bốn_mùa_thay_lá_-</td>\n",
       "      <td>nhạc_trịnh</td>\n",
       "    </tr>\n",
       "    <tr>\n",
       "      <th>100069</th>\n",
       "      <td>em_là_bông_hồng_nhỏ</td>\n",
       "      <td>nguyệt_ca</td>\n",
       "      <td>trịnh_công_sơn</td>\n",
       "      <td>bốn_mùa_thay_lá_-</td>\n",
       "      <td>nhạc_trịnh</td>\n",
       "    </tr>\n",
       "    <tr>\n",
       "      <th>100070</th>\n",
       "      <td>tuổi_đời_mênh_mông</td>\n",
       "      <td>nguyệt_ca</td>\n",
       "      <td>trịnh_công_sơn</td>\n",
       "      <td>bốn_mùa_thay_lá_-</td>\n",
       "      <td>nhạc_trịnh</td>\n",
       "    </tr>\n",
       "    <tr>\n",
       "      <th>100071</th>\n",
       "      <td>lời_mẹ_ru</td>\n",
       "      <td>nguyệt_ca</td>\n",
       "      <td>trịnh_công_sơn</td>\n",
       "      <td>bốn_mùa_thay_lá_-</td>\n",
       "      <td>nhạc_trịnh</td>\n",
       "    </tr>\n",
       "    <tr>\n",
       "      <th>100101</th>\n",
       "      <td>bốn_mùa_thay_lá</td>\n",
       "      <td>nguyệt_ca</td>\n",
       "      <td>trịnh_công_sơn</td>\n",
       "      <td>nhạc_hot_trữ_tình_bolero_tháng_11/2018</td>\n",
       "      <td>nhạc_trịnh</td>\n",
       "    </tr>\n",
       "    <tr>\n",
       "      <th>100106</th>\n",
       "      <td>môi_hồng_đào</td>\n",
       "      <td>nguyệt_ca</td>\n",
       "      <td>trịnh_công_sơn</td>\n",
       "      <td>nhạc_hot_trữ_tình_bolero_tháng_11/2018</td>\n",
       "      <td>nhạc_trịnh</td>\n",
       "    </tr>\n",
       "  </tbody>\n",
       "</table>\n",
       "</div>"
      ],
      "text/plain": [
       "                       Song     Singer          Author  \\\n",
       "8           bốn_mùa_thay_lá  nguyệt_ca  trịnh_công_sơn   \n",
       "22579     cũng_sẽ_chìm_trôi  nguyệt_ca  trịnh_công_sơn   \n",
       "22593       hãy_yêu_nhau_đi  nguyệt_ca  trịnh_công_sơn   \n",
       "94593       hãy_yêu_nhau_đi  nguyệt_ca  trịnh_công_sơn   \n",
       "94613             lời_mẹ_ru  nguyệt_ca  trịnh_công_sơn   \n",
       "94616     cũng_sẽ_chìm_trôi  nguyệt_ca  trịnh_công_sơn   \n",
       "94618              mưa_hồng  nguyệt_ca  trịnh_công_sơn   \n",
       "94620   níu_tay_nghìn_trùng  nguyệt_ca  trịnh_công_sơn   \n",
       "94622     đóa_hoa_vô_thường  nguyệt_ca  trịnh_công_sơn   \n",
       "94623               cát_bụi  nguyệt_ca  trịnh_công_sơn   \n",
       "94624        nắng_thủy_tinh  nguyệt_ca  trịnh_công_sơn   \n",
       "94627              diễm_xưa  nguyệt_ca  trịnh_công_sơn   \n",
       "100059  còn_tuổi_nào_cho_em  nguyệt_ca  trịnh_công_sơn   \n",
       "100062             tình_sầu  nguyệt_ca  trịnh_công_sơn   \n",
       "100064             tình_nhớ  nguyệt_ca  trịnh_công_sơn   \n",
       "100065          sóng_về_đâu  nguyệt_ca  trịnh_công_sơn   \n",
       "100066         môi_hồng_đào  nguyệt_ca  trịnh_công_sơn   \n",
       "100067    chiếc_lá_thu_phai  nguyệt_ca  trịnh_công_sơn   \n",
       "100069  em_là_bông_hồng_nhỏ  nguyệt_ca  trịnh_công_sơn   \n",
       "100070   tuổi_đời_mênh_mông  nguyệt_ca  trịnh_công_sơn   \n",
       "100071            lời_mẹ_ru  nguyệt_ca  trịnh_công_sơn   \n",
       "100101      bốn_mùa_thay_lá  nguyệt_ca  trịnh_công_sơn   \n",
       "100106         môi_hồng_đào  nguyệt_ca  trịnh_công_sơn   \n",
       "\n",
       "                                         Album       Genre  \n",
       "8                            bốn_mùa_thay_lá_-  nhạc_trịnh  \n",
       "22579                           môi_hồng_đào_-  nhạc_trịnh  \n",
       "22593                  mẹ_-_cánh_chim_cô_đơn_-  nhạc_trịnh  \n",
       "94593     những_bài_hát_hay_nhất_của_nguyệt_ca  nhạc_trịnh  \n",
       "94613     những_bài_hát_hay_nhất_của_nguyệt_ca  nhạc_trịnh  \n",
       "94616     những_bài_hát_hay_nhất_của_nguyệt_ca  nhạc_trịnh  \n",
       "94618     những_bài_hát_hay_nhất_của_nguyệt_ca  nhạc_trịnh  \n",
       "94620     những_bài_hát_hay_nhất_của_nguyệt_ca  nhạc_trịnh  \n",
       "94622     những_bài_hát_hay_nhất_của_nguyệt_ca  nhạc_trịnh  \n",
       "94623     những_bài_hát_hay_nhất_của_nguyệt_ca  nhạc_trịnh  \n",
       "94624     những_bài_hát_hay_nhất_của_nguyệt_ca  nhạc_trịnh  \n",
       "94627     những_bài_hát_hay_nhất_của_nguyệt_ca  nhạc_trịnh  \n",
       "100059                       bốn_mùa_thay_lá_-  nhạc_trịnh  \n",
       "100062                       bốn_mùa_thay_lá_-  nhạc_trịnh  \n",
       "100064                       bốn_mùa_thay_lá_-  nhạc_trịnh  \n",
       "100065                       bốn_mùa_thay_lá_-  nhạc_trịnh  \n",
       "100066                       bốn_mùa_thay_lá_-  nhạc_trịnh  \n",
       "100067                       bốn_mùa_thay_lá_-  nhạc_trịnh  \n",
       "100069                       bốn_mùa_thay_lá_-  nhạc_trịnh  \n",
       "100070                       bốn_mùa_thay_lá_-  nhạc_trịnh  \n",
       "100071                       bốn_mùa_thay_lá_-  nhạc_trịnh  \n",
       "100101  nhạc_hot_trữ_tình_bolero_tháng_11/2018  nhạc_trịnh  \n",
       "100106  nhạc_hot_trữ_tình_bolero_tháng_11/2018  nhạc_trịnh  "
      ]
     },
     "execution_count": 139,
     "metadata": {},
     "output_type": "execute_result"
    }
   ],
   "source": [
    "# find all row have singer is \"nguyệt_ca\"\n",
    "df[df.Singer == 'nguyệt_ca']"
   ]
  },
  {
   "cell_type": "code",
   "execution_count": 134,
   "metadata": {},
   "outputs": [
    {
     "data": {
      "text/html": [
       "<div>\n",
       "<style scoped>\n",
       "    .dataframe tbody tr th:only-of-type {\n",
       "        vertical-align: middle;\n",
       "    }\n",
       "\n",
       "    .dataframe tbody tr th {\n",
       "        vertical-align: top;\n",
       "    }\n",
       "\n",
       "    .dataframe thead th {\n",
       "        text-align: right;\n",
       "    }\n",
       "</style>\n",
       "<table border=\"1\" class=\"dataframe\">\n",
       "  <thead>\n",
       "    <tr style=\"text-align: right;\">\n",
       "      <th></th>\n",
       "      <th>Song</th>\n",
       "      <th>Singer</th>\n",
       "      <th>Author</th>\n",
       "      <th>Album</th>\n",
       "      <th>Genre</th>\n",
       "    </tr>\n",
       "  </thead>\n",
       "  <tbody>\n",
       "    <tr>\n",
       "      <th>22578</th>\n",
       "      <td>cũng_sẽ_chìm_trôi</td>\n",
       "      <td>nguyễn_hữu_thái_hòa</td>\n",
       "      <td>trịnh_công_sơn</td>\n",
       "      <td>môi_hồng_đào_-</td>\n",
       "      <td>nhạc_trịnh</td>\n",
       "    </tr>\n",
       "    <tr>\n",
       "      <th>22603</th>\n",
       "      <td>hãy_yêu_nhau_đi</td>\n",
       "      <td>nguyễn_hữu_thái_hòa</td>\n",
       "      <td>trịnh_công_sơn</td>\n",
       "      <td>mẹ_-_cánh_chim_cô_đơn_-</td>\n",
       "      <td>nhạc_trịnh</td>\n",
       "    </tr>\n",
       "    <tr>\n",
       "      <th>94581</th>\n",
       "      <td>hãy_yêu_nhau_đi</td>\n",
       "      <td>nguyễn_hữu_thái_hòa</td>\n",
       "      <td>trịnh_công_sơn</td>\n",
       "      <td>những_bài_hát_hay_nhất_của_nguyệt_ca</td>\n",
       "      <td>nhạc_trịnh</td>\n",
       "    </tr>\n",
       "    <tr>\n",
       "      <th>94619</th>\n",
       "      <td>cũng_sẽ_chìm_trôi</td>\n",
       "      <td>nguyễn_hữu_thái_hòa</td>\n",
       "      <td>trịnh_công_sơn</td>\n",
       "      <td>những_bài_hát_hay_nhất_của_nguyệt_ca</td>\n",
       "      <td>nhạc_trịnh</td>\n",
       "    </tr>\n",
       "  </tbody>\n",
       "</table>\n",
       "</div>"
      ],
      "text/plain": [
       "                    Song               Singer          Author  \\\n",
       "22578  cũng_sẽ_chìm_trôi  nguyễn_hữu_thái_hòa  trịnh_công_sơn   \n",
       "22603    hãy_yêu_nhau_đi  nguyễn_hữu_thái_hòa  trịnh_công_sơn   \n",
       "94581    hãy_yêu_nhau_đi  nguyễn_hữu_thái_hòa  trịnh_công_sơn   \n",
       "94619  cũng_sẽ_chìm_trôi  nguyễn_hữu_thái_hòa  trịnh_công_sơn   \n",
       "\n",
       "                                      Album       Genre  \n",
       "22578                        môi_hồng_đào_-  nhạc_trịnh  \n",
       "22603               mẹ_-_cánh_chim_cô_đơn_-  nhạc_trịnh  \n",
       "94581  những_bài_hát_hay_nhất_của_nguyệt_ca  nhạc_trịnh  \n",
       "94619  những_bài_hát_hay_nhất_của_nguyệt_ca  nhạc_trịnh  "
      ]
     },
     "execution_count": 134,
     "metadata": {},
     "output_type": "execute_result"
    }
   ],
   "source": [
    "# find all row have singer is \"nguyễn_hữu_thái_hòa\"\n",
    "df[df.Singer == 'nguyễn_hữu_thái_hòa']"
   ]
  },
  {
   "cell_type": "code",
   "execution_count": 3,
   "metadata": {},
   "outputs": [
    {
     "ename": "NameError",
     "evalue": "name 'df' is not defined",
     "output_type": "error",
     "traceback": [
      "\u001b[0;31m---------------------------------------------------------------------------\u001b[0m",
      "\u001b[0;31mNameError\u001b[0m                                 Traceback (most recent call last)",
      "\u001b[0;32m<ipython-input-3-74b05af60b94>\u001b[0m in \u001b[0;36m<module>\u001b[0;34m()\u001b[0m\n\u001b[0;32m----> 1\u001b[0;31m \u001b[0mdf\u001b[0m\u001b[0;34m[\u001b[0m\u001b[0mdf\u001b[0m\u001b[0;34m.\u001b[0m\u001b[0mSinger\u001b[0m \u001b[0;34m==\u001b[0m \u001b[0;34m'khánh_ly'\u001b[0m\u001b[0;34m]\u001b[0m\u001b[0;34m\u001b[0m\u001b[0m\n\u001b[0m",
      "\u001b[0;31mNameError\u001b[0m: name 'df' is not defined"
     ]
    }
   ],
   "source": [
    "# find all row have singer is \"khánh_ly\"\n",
    "df[df.Singer == 'khánh_ly']"
   ]
  },
  {
   "cell_type": "code",
   "execution_count": 143,
   "metadata": {},
   "outputs": [
    {
     "name": "stdout",
     "output_type": "stream",
     "text": [
      "Top 10 songs most similar with 'trịnh_công_sơn' \n",
      "tình_nhớ\n",
      "mưa_hồng\n",
      "tuổi_đá_buồn\n",
      "hoa_vàng_mấy_độ\n",
      "như_một_lời_chia_tay\n",
      "chiều_một_mình_qua_phố\n",
      "diễm_xưa\n",
      "biển_nghìn_thu_ở_lại\n",
      "cát_bụi\n",
      "đêm_thấy_ta_là_thác_đổ\n"
     ]
    }
   ],
   "source": [
    "dist, ind = dict_of_tree['Song'].query(model.wv.get_vector(\"trịnh_công_sơn\").reshape(1, -1), k=10)\n",
    "print(\"Top 10 songs most similar with 'trịnh_công_sơn' \")\n",
    "for i in ind[0]:\n",
    "    print(dict_category['Song']['value_list'][i])"
   ]
  },
  {
   "cell_type": "markdown",
   "metadata": {},
   "source": [
    "## Find all song similar with \"trinh_cong_son\" and \"pham_duy\""
   ]
  },
  {
   "cell_type": "code",
   "execution_count": 119,
   "metadata": {},
   "outputs": [],
   "source": [
    "trinh_cong_son_vector = model.wv.get_vector(\"trịnh_công_sơn\")\n",
    "pham_duy_vector = model.wv.get_vector(\"phạm_duy\")"
   ]
  },
  {
   "cell_type": "code",
   "execution_count": 148,
   "metadata": {},
   "outputs": [],
   "source": [
    "mean_of_vectors = (trinh_cong_son_vector + pham_duy_vector)/2"
   ]
  },
  {
   "cell_type": "code",
   "execution_count": 157,
   "metadata": {},
   "outputs": [
    {
     "name": "stdout",
     "output_type": "stream",
     "text": [
      "nha_trang_ngày_về\n",
      "nghìn_năm_vẫn_không_quên\n",
      "kiếp_nào_có_yêu_nhau\n",
      "giàn_thiên_lý_đã_xa\n",
      "đưa_em_tìm_động_hoa_vàng\n",
      "mẹ_hoá_đá\n",
      "nước_mắt_mùa_thu\n",
      "rồi_đây_anh_sẽ_đưa_em_về_nhà\n",
      "giữ_gìn_tình_anh\n",
      "biển_nghìn_thu_ở_lại\n"
     ]
    }
   ],
   "source": [
    "dist, ind = dict_of_tree['Song'].query(mean_of_vectors.reshape(1, -1), k=10)\n",
    "for i in ind[0]:\n",
    "    print(dict_category['Song']['value_list'][i])"
   ]
  }
 ],
 "metadata": {
  "kernelspec": {
   "display_name": "Python 3",
   "language": "python",
   "name": "python3"
  },
  "language_info": {
   "codemirror_mode": {
    "name": "ipython",
    "version": 3
   },
   "file_extension": ".py",
   "mimetype": "text/x-python",
   "name": "python",
   "nbconvert_exporter": "python",
   "pygments_lexer": "ipython3",
   "version": "3.7.0"
  }
 },
 "nbformat": 4,
 "nbformat_minor": 2
}
